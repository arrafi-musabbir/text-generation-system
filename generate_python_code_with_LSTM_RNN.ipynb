{
  "nbformat": 4,
  "nbformat_minor": 0,
  "metadata": {
    "colab": {
      "provenance": []
    },
    "kernelspec": {
      "name": "python3",
      "display_name": "Python 3"
    },
    "language_info": {
      "name": "python"
    },
    "accelerator": "GPU",
    "gpuClass": "standard"
  },
  "cells": [
    {
      "cell_type": "code",
      "source": [
        "from google.colab import drive\n",
        "drive.mount('/content/drive')"
      ],
      "metadata": {
        "colab": {
          "base_uri": "https://localhost:8080/"
        },
        "id": "BK2iA7EhJ3j0",
        "outputId": "415b487e-505a-4665-e24a-96969b460979"
      },
      "execution_count": null,
      "outputs": [
        {
          "output_type": "stream",
          "name": "stdout",
          "text": [
            "Mounted at /content/drive\n"
          ]
        }
      ]
    },
    {
      "cell_type": "markdown",
      "source": [
        "## Necessary imports"
      ],
      "metadata": {
        "id": "bMhO5f5N-9OP"
      }
    },
    {
      "cell_type": "code",
      "execution_count": null,
      "metadata": {
        "id": "dBn3sbqGO1d5"
      },
      "outputs": [],
      "source": [
        "import numpy as np\n",
        "import tensorflow as tf\n",
        "import pandas as pd\n",
        "import matplotlib.pyplot as plt\n",
        "from tensorflow.keras.models import Sequential\n",
        "from tensorflow.keras.layers import Dense\n",
        "from tensorflow.keras.layers import Dropout\n",
        "from tensorflow.keras.layers import LSTM\n",
        "from tensorflow.keras.callbacks import ModelCheckpoint\n",
        "from tensorflow.keras.callbacks import EarlyStopping\n",
        "from tensorflow.keras.utils import to_categorical\n",
        "import sys"
      ]
    },
    {
      "cell_type": "markdown",
      "source": [
        "## Loading text file to train"
      ],
      "metadata": {
        "id": "M4MA8lMv_FQo"
      }
    },
    {
      "cell_type": "code",
      "source": [
        "# load ascii text and covert to lowercase\n",
        "filename = \"data.txt\"\n",
        "raw_text = open(filename, 'r', encoding='utf-8').read()\n",
        "raw_text = raw_text.lower()"
      ],
      "metadata": {
        "id": "s_5V6nx537DC"
      },
      "execution_count": null,
      "outputs": []
    },
    {
      "cell_type": "markdown",
      "source": [
        "## preparing the data"
      ],
      "metadata": {
        "id": "wYM1pqux_UbM"
      }
    },
    {
      "cell_type": "code",
      "source": [
        "# create mapping of unique chars to integers\n",
        "chars = sorted(list(set(raw_text)))\n",
        "char_to_int = dict((c, i) for i, c in enumerate(chars))"
      ],
      "metadata": {
        "id": "UfFZC9zF6bkp"
      },
      "execution_count": null,
      "outputs": []
    },
    {
      "cell_type": "code",
      "source": [
        "n_chars = len(raw_text)\n",
        "n_vocab = len(chars)\n",
        "print(\"Total Characters: \", n_chars)\n",
        "print(\"Total Vocab: \", n_vocab)"
      ],
      "metadata": {
        "colab": {
          "base_uri": "https://localhost:8080/"
        },
        "id": "wzpklkeS6e-o",
        "outputId": "aa84a131-0cbd-444d-a042-1d39219cf794"
      },
      "execution_count": null,
      "outputs": [
        {
          "output_type": "stream",
          "name": "stdout",
          "text": [
            "Total Characters:  35215\n",
            "Total Vocab:  61\n"
          ]
        }
      ]
    },
    {
      "cell_type": "markdown",
      "source": [
        "## Finding patters in the data"
      ],
      "metadata": {
        "id": "Eks4uQ6K_pdM"
      }
    },
    {
      "cell_type": "code",
      "source": [
        "...\n",
        "# prepare the dataset of input to output pairs encoded as integers\n",
        "seq_length = 100\n",
        "dataX = []\n",
        "dataY = []\n",
        "for i in range(0, n_chars - seq_length, 1):\n",
        "\tseq_in = raw_text[i:i + seq_length]\n",
        "\tseq_out = raw_text[i + seq_length]\n",
        "\tdataX.append([char_to_int[char] for char in seq_in])\n",
        "\tdataY.append(char_to_int[seq_out])\n",
        "n_patterns = len(dataX)\n",
        "print(\"Total Patterns: \", n_patterns)"
      ],
      "metadata": {
        "colab": {
          "base_uri": "https://localhost:8080/"
        },
        "id": "pYwTe3Ef6lDo",
        "outputId": "aee11629-87b8-48d8-bcc3-accd2ce4c45d"
      },
      "execution_count": null,
      "outputs": [
        {
          "output_type": "stream",
          "name": "stdout",
          "text": [
            "Total Patterns:  35115\n"
          ]
        }
      ]
    },
    {
      "cell_type": "markdown",
      "source": [
        "## Data normalization with one hot encoding"
      ],
      "metadata": {
        "id": "9hjDrKOi_jy7"
      }
    },
    {
      "cell_type": "code",
      "source": [
        "...\n",
        "# reshape X to be [samples, time steps, features]\n",
        "X = np.reshape(dataX, (n_patterns, seq_length, 1))\n",
        "# normalize\n",
        "X = X / float(n_vocab)\n",
        "# one hot encode the output variable\n",
        "y = to_categorical(dataY)"
      ],
      "metadata": {
        "id": "kY0yCCGD6wuy"
      },
      "execution_count": null,
      "outputs": []
    },
    {
      "cell_type": "markdown",
      "source": [
        "## Building the LSTM model"
      ],
      "metadata": {
        "id": "-HZKk9-f_uA6"
      }
    },
    {
      "cell_type": "code",
      "source": [
        "...\n",
        "# define the LSTM model\n",
        "model = Sequential()\n",
        "model.add(LSTM(256, input_shape=(X.shape[1], X.shape[2]), return_sequences=True))\n",
        "model.add(Dropout(0.2))\n",
        "model.add(LSTM(256))\n",
        "model.add(Dropout(0.2))\n",
        "model.add(Dense(y.shape[1], activation='softmax'))\n",
        "model.compile(loss='categorical_crossentropy', optimizer='adam', metrics = ['accuracy'],)"
      ],
      "metadata": {
        "id": "s88pcN-X60Lz"
      },
      "execution_count": null,
      "outputs": []
    },
    {
      "cell_type": "code",
      "source": [
        "model.summary()"
      ],
      "metadata": {
        "colab": {
          "base_uri": "https://localhost:8080/"
        },
        "id": "CTjXqFfjuZag",
        "outputId": "f4f72882-d2c7-43b5-8ff8-b04998c56460"
      },
      "execution_count": null,
      "outputs": [
        {
          "output_type": "stream",
          "name": "stdout",
          "text": [
            "Model: \"sequential\"\n",
            "_________________________________________________________________\n",
            " Layer (type)                Output Shape              Param #   \n",
            "=================================================================\n",
            " lstm (LSTM)                 (None, 100, 256)          264192    \n",
            "                                                                 \n",
            " dropout (Dropout)           (None, 100, 256)          0         \n",
            "                                                                 \n",
            " lstm_1 (LSTM)               (None, 256)               525312    \n",
            "                                                                 \n",
            " dropout_1 (Dropout)         (None, 256)               0         \n",
            "                                                                 \n",
            " dense (Dense)               (None, 61)                15677     \n",
            "                                                                 \n",
            "=================================================================\n",
            "Total params: 805,181\n",
            "Trainable params: 805,181\n",
            "Non-trainable params: 0\n",
            "_________________________________________________________________\n"
          ]
        }
      ]
    },
    {
      "cell_type": "markdown",
      "source": [
        "## Defining early stopping monitoring validation loss"
      ],
      "metadata": {
        "id": "UGpVj5A_vGuw"
      }
    },
    {
      "cell_type": "code",
      "source": [
        "early_stopping = EarlyStopping(\n",
        "    monitor='val_loss',\n",
        "    min_delta=0.001,\n",
        "    patience=4,\n",
        "    restore_best_weights=True)"
      ],
      "metadata": {
        "id": "XLtd2GYJvKMy"
      },
      "execution_count": null,
      "outputs": []
    },
    {
      "cell_type": "markdown",
      "source": [
        "## Defining the checkpoints and the callback function"
      ],
      "metadata": {
        "id": "Qa78ndd6AMF-"
      }
    },
    {
      "cell_type": "code",
      "source": [
        "...\n",
        "# define the checkpoint\n",
        "filepath=\"/content/drive/MyDrive/RNN-lstm/weights-improvement-{epoch:02d}-{loss:.4f}.hdf5\"\n",
        "# define the callback function\n",
        "checkpoint = ModelCheckpoint(filepath, monitor='val_loss', verbose=1, save_best_only=True, mode='min')\n",
        "callbacks_list = [checkpoint, early_stopping]"
      ],
      "metadata": {
        "id": "2ifi8Bu662Cz"
      },
      "execution_count": null,
      "outputs": []
    },
    {
      "cell_type": "markdown",
      "source": [
        "## Training the model"
      ],
      "metadata": {
        "id": "kDREKM8lsQo4"
      }
    },
    {
      "cell_type": "code",
      "source": [
        "history = model.fit(X, y, epochs=100, batch_size=128, validation_split=0.1, callbacks=callbacks_list)"
      ],
      "metadata": {
        "colab": {
          "base_uri": "https://localhost:8080/"
        },
        "id": "W_Tv3tKB6-NM",
        "outputId": "6d4859dd-0bbd-4d1b-9d5e-d77c31132e4b"
      },
      "execution_count": null,
      "outputs": [
        {
          "output_type": "stream",
          "name": "stdout",
          "text": [
            "Epoch 1/100\n",
            "247/247 [==============================] - ETA: 0s - loss: 2.9058 - accuracy: 0.2719\n",
            "Epoch 1: val_loss improved from inf to 2.77623, saving model to /content/drive/MyDrive/RNN-lstm/weights-improvement-01-2.9058.hdf5\n",
            "247/247 [==============================] - 17s 36ms/step - loss: 2.9058 - accuracy: 0.2719 - val_loss: 2.7762 - val_accuracy: 0.2600\n",
            "Epoch 2/100\n",
            "247/247 [==============================] - ETA: 0s - loss: 2.7044 - accuracy: 0.2959\n",
            "Epoch 2: val_loss improved from 2.77623 to 2.65279, saving model to /content/drive/MyDrive/RNN-lstm/weights-improvement-02-2.7044.hdf5\n",
            "247/247 [==============================] - 8s 33ms/step - loss: 2.7044 - accuracy: 0.2959 - val_loss: 2.6528 - val_accuracy: 0.3198\n",
            "Epoch 3/100\n",
            "247/247 [==============================] - ETA: 0s - loss: 2.6340 - accuracy: 0.3091\n",
            "Epoch 3: val_loss improved from 2.65279 to 2.58979, saving model to /content/drive/MyDrive/RNN-lstm/weights-improvement-03-2.6340.hdf5\n",
            "247/247 [==============================] - 8s 33ms/step - loss: 2.6340 - accuracy: 0.3091 - val_loss: 2.5898 - val_accuracy: 0.3198\n",
            "Epoch 4/100\n",
            "247/247 [==============================] - ETA: 0s - loss: 2.5834 - accuracy: 0.3147\n",
            "Epoch 4: val_loss improved from 2.58979 to 2.56291, saving model to /content/drive/MyDrive/RNN-lstm/weights-improvement-04-2.5834.hdf5\n",
            "247/247 [==============================] - 8s 34ms/step - loss: 2.5834 - accuracy: 0.3147 - val_loss: 2.5629 - val_accuracy: 0.3269\n",
            "Epoch 5/100\n",
            "247/247 [==============================] - ETA: 0s - loss: 2.5318 - accuracy: 0.3264\n",
            "Epoch 5: val_loss improved from 2.56291 to 2.49008, saving model to /content/drive/MyDrive/RNN-lstm/weights-improvement-05-2.5318.hdf5\n",
            "247/247 [==============================] - 8s 34ms/step - loss: 2.5318 - accuracy: 0.3264 - val_loss: 2.4901 - val_accuracy: 0.3289\n",
            "Epoch 6/100\n",
            "247/247 [==============================] - ETA: 0s - loss: 2.4614 - accuracy: 0.3438\n",
            "Epoch 6: val_loss improved from 2.49008 to 2.39281, saving model to /content/drive/MyDrive/RNN-lstm/weights-improvement-06-2.4614.hdf5\n",
            "247/247 [==============================] - 8s 34ms/step - loss: 2.4614 - accuracy: 0.3438 - val_loss: 2.3928 - val_accuracy: 0.3479\n",
            "Epoch 7/100\n",
            "247/247 [==============================] - ETA: 0s - loss: 2.3829 - accuracy: 0.3637\n",
            "Epoch 7: val_loss improved from 2.39281 to 2.34615, saving model to /content/drive/MyDrive/RNN-lstm/weights-improvement-07-2.3829.hdf5\n",
            "247/247 [==============================] - 8s 34ms/step - loss: 2.3829 - accuracy: 0.3637 - val_loss: 2.3461 - val_accuracy: 0.3739\n",
            "Epoch 8/100\n",
            "247/247 [==============================] - ETA: 0s - loss: 2.2890 - accuracy: 0.3866\n",
            "Epoch 8: val_loss improved from 2.34615 to 2.24963, saving model to /content/drive/MyDrive/RNN-lstm/weights-improvement-08-2.2890.hdf5\n",
            "247/247 [==============================] - 8s 34ms/step - loss: 2.2890 - accuracy: 0.3866 - val_loss: 2.2496 - val_accuracy: 0.3972\n",
            "Epoch 9/100\n",
            "247/247 [==============================] - ETA: 0s - loss: 2.1799 - accuracy: 0.4136\n",
            "Epoch 9: val_loss improved from 2.24963 to 2.21162, saving model to /content/drive/MyDrive/RNN-lstm/weights-improvement-09-2.1799.hdf5\n",
            "247/247 [==============================] - 8s 34ms/step - loss: 2.1799 - accuracy: 0.4136 - val_loss: 2.2116 - val_accuracy: 0.4254\n",
            "Epoch 10/100\n",
            "247/247 [==============================] - ETA: 0s - loss: 2.0802 - accuracy: 0.4427\n",
            "Epoch 10: val_loss improved from 2.21162 to 2.15965, saving model to /content/drive/MyDrive/RNN-lstm/weights-improvement-10-2.0802.hdf5\n",
            "247/247 [==============================] - 8s 34ms/step - loss: 2.0802 - accuracy: 0.4427 - val_loss: 2.1597 - val_accuracy: 0.4251\n",
            "Epoch 11/100\n",
            "247/247 [==============================] - ETA: 0s - loss: 1.9831 - accuracy: 0.4696\n",
            "Epoch 11: val_loss improved from 2.15965 to 2.06545, saving model to /content/drive/MyDrive/RNN-lstm/weights-improvement-11-1.9831.hdf5\n",
            "247/247 [==============================] - 8s 34ms/step - loss: 1.9831 - accuracy: 0.4696 - val_loss: 2.0655 - val_accuracy: 0.4573\n",
            "Epoch 12/100\n",
            "247/247 [==============================] - ETA: 0s - loss: 1.9001 - accuracy: 0.4903\n",
            "Epoch 12: val_loss improved from 2.06545 to 2.04932, saving model to /content/drive/MyDrive/RNN-lstm/weights-improvement-12-1.9001.hdf5\n",
            "247/247 [==============================] - 8s 34ms/step - loss: 1.9001 - accuracy: 0.4903 - val_loss: 2.0493 - val_accuracy: 0.4536\n",
            "Epoch 13/100\n",
            "247/247 [==============================] - ETA: 0s - loss: 1.8196 - accuracy: 0.5068\n",
            "Epoch 13: val_loss improved from 2.04932 to 2.03325, saving model to /content/drive/MyDrive/RNN-lstm/weights-improvement-13-1.8196.hdf5\n",
            "247/247 [==============================] - 8s 33ms/step - loss: 1.8196 - accuracy: 0.5068 - val_loss: 2.0333 - val_accuracy: 0.4593\n",
            "Epoch 14/100\n",
            "247/247 [==============================] - ETA: 0s - loss: 1.7482 - accuracy: 0.5262\n",
            "Epoch 14: val_loss improved from 2.03325 to 2.01323, saving model to /content/drive/MyDrive/RNN-lstm/weights-improvement-14-1.7482.hdf5\n",
            "247/247 [==============================] - 8s 33ms/step - loss: 1.7482 - accuracy: 0.5262 - val_loss: 2.0132 - val_accuracy: 0.4618\n",
            "Epoch 15/100\n",
            "247/247 [==============================] - ETA: 0s - loss: 1.6746 - accuracy: 0.5436\n",
            "Epoch 15: val_loss improved from 2.01323 to 1.97976, saving model to /content/drive/MyDrive/RNN-lstm/weights-improvement-15-1.6746.hdf5\n",
            "247/247 [==============================] - 8s 33ms/step - loss: 1.6746 - accuracy: 0.5436 - val_loss: 1.9798 - val_accuracy: 0.4658\n",
            "Epoch 16/100\n",
            "247/247 [==============================] - ETA: 0s - loss: 1.6080 - accuracy: 0.5607\n",
            "Epoch 16: val_loss improved from 1.97976 to 1.94941, saving model to /content/drive/MyDrive/RNN-lstm/weights-improvement-16-1.6080.hdf5\n",
            "247/247 [==============================] - 8s 34ms/step - loss: 1.6080 - accuracy: 0.5607 - val_loss: 1.9494 - val_accuracy: 0.4915\n",
            "Epoch 17/100\n",
            "247/247 [==============================] - ETA: 0s - loss: 1.5472 - accuracy: 0.5764\n",
            "Epoch 17: val_loss did not improve from 1.94941\n",
            "247/247 [==============================] - 8s 33ms/step - loss: 1.5472 - accuracy: 0.5764 - val_loss: 1.9501 - val_accuracy: 0.4821\n",
            "Epoch 18/100\n",
            "247/247 [==============================] - ETA: 0s - loss: 1.4893 - accuracy: 0.5901\n",
            "Epoch 18: val_loss did not improve from 1.94941\n",
            "247/247 [==============================] - 8s 33ms/step - loss: 1.4893 - accuracy: 0.5901 - val_loss: 1.9588 - val_accuracy: 0.4909\n",
            "Epoch 19/100\n",
            "247/247 [==============================] - ETA: 0s - loss: 1.4297 - accuracy: 0.6037\n",
            "Epoch 19: val_loss improved from 1.94941 to 1.94790, saving model to /content/drive/MyDrive/RNN-lstm/weights-improvement-19-1.4297.hdf5\n",
            "247/247 [==============================] - 8s 34ms/step - loss: 1.4297 - accuracy: 0.6037 - val_loss: 1.9479 - val_accuracy: 0.4923\n",
            "Epoch 20/100\n",
            "247/247 [==============================] - ETA: 0s - loss: 1.3743 - accuracy: 0.6185\n",
            "Epoch 20: val_loss did not improve from 1.94790\n",
            "247/247 [==============================] - 8s 33ms/step - loss: 1.3743 - accuracy: 0.6185 - val_loss: 1.9505 - val_accuracy: 0.4849\n",
            "Epoch 21/100\n",
            "247/247 [==============================] - ETA: 0s - loss: 1.3200 - accuracy: 0.6322\n",
            "Epoch 21: val_loss did not improve from 1.94790\n",
            "247/247 [==============================] - 8s 33ms/step - loss: 1.3200 - accuracy: 0.6322 - val_loss: 2.0278 - val_accuracy: 0.4852\n",
            "Epoch 22/100\n",
            "247/247 [==============================] - ETA: 0s - loss: 1.2646 - accuracy: 0.6435\n",
            "Epoch 22: val_loss did not improve from 1.94790\n",
            "247/247 [==============================] - 8s 34ms/step - loss: 1.2646 - accuracy: 0.6435 - val_loss: 1.9871 - val_accuracy: 0.4826\n",
            "Epoch 23/100\n",
            "247/247 [==============================] - ETA: 0s - loss: 1.2212 - accuracy: 0.6560\n",
            "Epoch 23: val_loss improved from 1.94790 to 1.92931, saving model to /content/drive/MyDrive/RNN-lstm/weights-improvement-23-1.2212.hdf5\n",
            "247/247 [==============================] - 8s 34ms/step - loss: 1.2212 - accuracy: 0.6560 - val_loss: 1.9293 - val_accuracy: 0.5020\n",
            "Epoch 24/100\n",
            "247/247 [==============================] - ETA: 0s - loss: 1.1756 - accuracy: 0.6686\n",
            "Epoch 24: val_loss did not improve from 1.92931\n",
            "247/247 [==============================] - 8s 34ms/step - loss: 1.1756 - accuracy: 0.6686 - val_loss: 2.0077 - val_accuracy: 0.4835\n",
            "Epoch 25/100\n",
            "247/247 [==============================] - ETA: 0s - loss: 1.1309 - accuracy: 0.6816\n",
            "Epoch 25: val_loss did not improve from 1.92931\n",
            "247/247 [==============================] - 8s 33ms/step - loss: 1.1309 - accuracy: 0.6816 - val_loss: 2.0063 - val_accuracy: 0.4923\n",
            "Epoch 26/100\n",
            "247/247 [==============================] - ETA: 0s - loss: 1.0891 - accuracy: 0.6919\n",
            "Epoch 26: val_loss did not improve from 1.92931\n",
            "247/247 [==============================] - 8s 33ms/step - loss: 1.0891 - accuracy: 0.6919 - val_loss: 2.0418 - val_accuracy: 0.4838\n",
            "Epoch 27/100\n",
            "247/247 [==============================] - ETA: 0s - loss: 1.0532 - accuracy: 0.6986\n",
            "Epoch 27: val_loss did not improve from 1.92931\n",
            "247/247 [==============================] - 8s 33ms/step - loss: 1.0532 - accuracy: 0.6986 - val_loss: 2.0215 - val_accuracy: 0.5031\n"
          ]
        }
      ]
    },
    {
      "cell_type": "markdown",
      "source": [
        "## Ploting traning vs validation loss"
      ],
      "metadata": {
        "id": "OKJuoboWtJla"
      }
    },
    {
      "cell_type": "code",
      "source": [
        "history_df = pd.DataFrame(history.history)\n",
        "\n",
        "plt.plot(history_df.loc[:, ['loss']], \"#6daa9f\", label='Training loss')\n",
        "plt.plot(history_df.loc[:, ['val_loss']],\"#774571\", label='Validation loss')\n",
        "plt.title('Training and Validation loss')\n",
        "plt.xlabel('Epochs')\n",
        "plt.ylabel('Loss')\n",
        "plt.legend(loc=\"best\")\n",
        "\n",
        "plt.show()"
      ],
      "metadata": {
        "colab": {
          "base_uri": "https://localhost:8080/",
          "height": 295
        },
        "id": "Rj-yC4qTs6Bg",
        "outputId": "32cf6ad7-3bc3-4f5b-8a90-80e2547e30ea"
      },
      "execution_count": null,
      "outputs": [
        {
          "output_type": "display_data",
          "data": {
            "text/plain": [
              "<Figure size 432x288 with 1 Axes>"
            ],
            "image/png": "[encoded data removed]"
          },
          "metadata": {
            "needs_background": "light"
          }
        }
      ]
    },
    {
      "cell_type": "markdown",
      "source": [
        "## Ploting traning vs validation accuracy"
      ],
      "metadata": {
        "id": "ErZaSosPxfLq"
      }
    },
    {
      "cell_type": "code",
      "source": [
        "history_df = pd.DataFrame(history.history)\n",
        "\n",
        "plt.plot(history_df.loc[:, ['accuracy']], \"#6daa9f\", label='Training accuracy')\n",
        "plt.plot(history_df.loc[:, ['val_accuracy']],\"#774571\", label='Validation accuracy')\n",
        "plt.title('Training vs Validation accuracy')\n",
        "plt.xlabel('Epochs')\n",
        "plt.ylabel('Loss')\n",
        "plt.legend(loc=\"best\")\n",
        "\n",
        "plt.show()"
      ],
      "metadata": {
        "colab": {
          "base_uri": "https://localhost:8080/",
          "height": 295
        },
        "id": "a95nhbqKxSZ_",
        "outputId": "0b5437fe-6a56-4f25-dd7c-e07cf353109f"
      },
      "execution_count": null,
      "outputs": [
        {
          "output_type": "display_data",
          "data": {
            "text/plain": [
              "<Figure size 432x288 with 1 Axes>"
            ],
            "image/png": "[encoded data removed]"
          },
          "metadata": {
            "needs_background": "light"
          }
        }
      ]
    },
    {
      "cell_type": "markdown",
      "source": [
        "## Load the trained model"
      ],
      "metadata": {
        "id": "3gZ2Ch52xp6I"
      }
    },
    {
      "cell_type": "code",
      "source": [
        "...\n",
        "# load the network weights\n",
        "filename = \"/content/drive/MyDrive/RNN-lstm/weights-improvement-23-1.2212.hdf5\"\n",
        "model.load_weights(filename)\n",
        "model.compile(loss='categorical_crossentropy', optimizer='adam')"
      ],
      "metadata": {
        "id": "hdsUUp_t7FKg"
      },
      "execution_count": null,
      "outputs": []
    },
    {
      "cell_type": "code",
      "source": [
        "...\n",
        "int_to_char = dict((i, c) for i, c in enumerate(chars))"
      ],
      "metadata": {
        "id": "jOjYNzL27sI3"
      },
      "execution_count": null,
      "outputs": []
    },
    {
      "cell_type": "markdown",
      "source": [
        "## Generating text with trained LSTM model"
      ],
      "metadata": {
        "id": "CBDO6ocmyP2O"
      }
    },
    {
      "cell_type": "code",
      "source": [
        "...\n",
        "# pick a random seed\n",
        "start = np.random.randint(0, len(dataX)-1)\n",
        "pattern = dataX[start]\n",
        "print(\"Generating fake Python code (functions, etc.):\\n\")\n",
        "print(\"\\\"\", ''.join([int_to_char[value] for value in pattern]), \"\\\"\")\n",
        "# generate characters\n",
        "for i in range(1000):\n",
        "\tx = np.reshape(pattern, (1, len(pattern), 1))\n",
        "\tx = x / float(n_vocab)\n",
        "\tprediction = model.predict(x, verbose=0)\n",
        "\tindex = np.argmax(prediction)\n",
        "\tresult = int_to_char[index]\n",
        "\tseq_in = [int_to_char[value] for value in pattern]\n",
        "\tsys.stdout.write(result)\n",
        "\tpattern.append(index)\n",
        "\tpattern = pattern[1:len(pattern)]\n",
        "print(\"\\n\\nDone.\")"
      ],
      "metadata": {
        "colab": {
          "base_uri": "https://localhost:8080/"
        },
        "id": "ylSfvYaE7yyn",
        "outputId": "92ba48fc-c9a8-4f81-d2f7-5f42d0d040a6"
      },
      "execution_count": null,
      "outputs": [
        {
          "output_type": "stream",
          "name": "stdout",
          "text": [
            "Generating fake Python code (functions, etc.):\n",
            "\n",
            "\" e\n",
            "            self.accessed = true\n",
            "\n",
            "        super().__init__(initial, on_update)\n",
            "\n",
            "    def __getitem_ \"\n",
            "_(self, app: \"flask\") -> str:\n",
            "        return self.get_cookie_same(app)\n",
            "        if self.get_cookie_samplate_coneie_semulate_context_processor(\n",
            "\n",
            "       self. app: \"flask\", session: sessionmixin,         sesulng.semfaretespon(self, app: \"flask\", sessest: \"           return self.get_cookie_same(app)\n",
            "            return self.get_cookie_same(app)\n",
            "            return self.get_cookie_same(app)\n",
            "            return self.get_cookie_same(app)\n",
            "            return self.get_cookie_same(app)\n",
            "            return self.get_cookie_same(app)\n",
            "            return self.get_cookie_same(app)\n",
            "            return self.get_cookie_same(app)\n",
            "            return self.get_cookie_same(app)\n",
            "            return self.get_cookie_same(app)\n",
            "            return self.get_cookie_same(app)\n",
            "            return self.get_cookie_same(app)\n",
            "            return self.get_cookie_same(app)\n",
            "            return self.get_cookie_same(app)\n",
            "            return self.get_cookie_same(app)\n",
            "            return self.get_cookie_same(app)\n",
            "            return self.get_\n",
            "\n",
            "Done.\n"
          ]
        }
      ]
    }
  ]
}